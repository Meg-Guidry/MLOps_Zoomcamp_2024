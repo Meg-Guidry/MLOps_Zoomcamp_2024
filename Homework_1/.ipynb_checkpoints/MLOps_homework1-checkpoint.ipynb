{
 "cells": [
  {
   "cell_type": "code",
   "execution_count": 3,
   "id": "16a4b6b4-cc29-45be-8b84-7269deff37c5",
   "metadata": {},
   "outputs": [
    {
     "name": "stdout",
     "output_type": "stream",
     "text": [
      "Collecting pyarrow\n",
      "  Downloading pyarrow-16.1.0-cp311-cp311-macosx_11_0_arm64.whl.metadata (3.0 kB)\n",
      "Requirement already satisfied: numpy>=1.16.6 in /Users/meganguidry/miniconda3/lib/python3.11/site-packages (from pyarrow) (1.26.2)\n",
      "Downloading pyarrow-16.1.0-cp311-cp311-macosx_11_0_arm64.whl (26.0 MB)\n",
      "\u001b[2K   \u001b[38;2;114;156;31m━━━━━━━━━━━━━━━━━━━━━━━━━━━━━━━━━━━━━━━━\u001b[0m \u001b[32m26.0/26.0 MB\u001b[0m \u001b[31m8.6 MB/s\u001b[0m eta \u001b[36m0:00:00\u001b[0mm eta \u001b[36m0:00:01\u001b[0m[36m0:00:01\u001b[0m\n",
      "\u001b[?25hInstalling collected packages: pyarrow\n",
      "Successfully installed pyarrow-16.1.0\n"
     ]
    }
   ],
   "source": [
    "# !pip install pyarrow"
   ]
  },
  {
   "cell_type": "code",
   "execution_count": 75,
   "id": "cf4391d5-c7e3-43eb-ba16-c6ea850e0309",
   "metadata": {},
   "outputs": [],
   "source": [
    "import pandas as pd\n",
    "import datetime as dt\n",
    "from sklearn.linear_model import LinearRegression\n",
    "from sklearn.model_selection import train_test_split\n",
    "from sklearn.metrics import mean_squared_error\n",
    "from sklearn.feature_extraction import DictVectorizer\n",
    "import numpy as np"
   ]
  },
  {
   "cell_type": "markdown",
   "id": "d52625de-c069-4bbe-b1ff-6ee92902f51a",
   "metadata": {},
   "source": [
    "## Homework\n",
    "\n",
    "The goal of this homework is to train a simple model for predicting the duration of a ride - similar to what we did in this module."
   ]
  },
  {
   "cell_type": "markdown",
   "id": "70422c53-82d6-470c-b48e-0c4d70efe80a",
   "metadata": {},
   "source": [
    "## Q1. Downloading the data\n",
    "\n",
    "We'll use [the same NYC taxi dataset](https://www1.nyc.gov/site/tlc/about/tlc-trip-record-data.page),\n",
    "but instead of \"**Green** Taxi Trip Records\", we'll use \"**Yellow** Taxi Trip Records\".\n",
    "\n",
    "Download the data for January and February 2023.\n",
    "\n",
    "Read the data for January. How many columns are there?\n",
    "\n",
    "* 16\n",
    "* 17\n",
    "* 18\n",
    "* 19 --> Megan's Answer"
   ]
  },
  {
   "cell_type": "code",
   "execution_count": 76,
   "id": "b4c61be9-21e0-403b-9a62-179987c30de5",
   "metadata": {},
   "outputs": [],
   "source": [
    "taxi_jan23_df = pd.read_parquet(\"data/yellow_tripdata_2023-01.parquet\")\n",
    "taxi_feb23_df = pd.read_parquet(\"data/yellow_tripdata_2023-02.parquet\")\n",
    "\n",
    "taxi_feb23_df.rename(columns={\"Airport_fee\": \"airport_fee\"}, inplace=True)\n",
    "\n",
    "taxi_df = pd.concat([taxi_jan23_df, taxi_feb23_df]).reset_index(drop=True)"
   ]
  },
  {
   "cell_type": "code",
   "execution_count": 77,
   "id": "9d56d46c-b523-44e9-a6f7-7d3021d0acda",
   "metadata": {},
   "outputs": [
    {
     "name": "stdout",
     "output_type": "stream",
     "text": [
      "(3066766, 19)\n",
      "(2913955, 19)\n",
      "(5980721, 19)\n"
     ]
    }
   ],
   "source": [
    "print(taxi_jan23_df.shape)\n",
    "print(taxi_feb23_df.shape)\n",
    "print(taxi_df.shape)"
   ]
  },
  {
   "cell_type": "markdown",
   "id": "6e2b91d3-2736-48c7-9774-9856bacd9de3",
   "metadata": {},
   "source": [
    "## Q2. Computing duration\n",
    "\n",
    "Now let's compute the `duration` variable. It should contain the duration of a ride in minutes. \n",
    "\n",
    "What's the standard deviation of the trips duration in January?\n",
    "\n",
    "* 32.59\n",
    "* 42.59 <-- Megan's Answer (I got 41.62 as the standard deviation)\n",
    "* 52.59\n",
    "* 62.59"
   ]
  },
  {
   "cell_type": "code",
   "execution_count": 78,
   "id": "992a577a-1f28-478e-b3d9-b5a8820fe0ba",
   "metadata": {},
   "outputs": [],
   "source": [
    "def duration_minutes(df):\n",
    "    # The pickup and dropoff features are already datetime datatypes. \n",
    "    # To calculate duration we need to subtract pickup time from dropoff time:\n",
    "    df[\"duration\"] = df[\"tpep_dropoff_datetime\"] - df[\"tpep_pickup_datetime\"]\n",
    "    \n",
    "    # Convert the duration to minutes\n",
    "    df[\"duration\"] = df[\"duration\"].dt.seconds / 60"
   ]
  },
  {
   "cell_type": "code",
   "execution_count": 79,
   "id": "1a4c8fa7-c861-47bd-9ec5-0cc8727e0e86",
   "metadata": {},
   "outputs": [],
   "source": [
    "duration_minutes(taxi_jan23_df)"
   ]
  },
  {
   "cell_type": "code",
   "execution_count": 80,
   "id": "5b7c17be-3957-4556-b7ef-ffc291e8cf06",
   "metadata": {},
   "outputs": [
    {
     "data": {
      "text/plain": [
       "41.62919110966266"
      ]
     },
     "execution_count": 80,
     "metadata": {},
     "output_type": "execute_result"
    }
   ],
   "source": [
    "# Now calculate the standard deviation of the trip durations in January\n",
    "taxi_jan23_df[\"duration\"].std()"
   ]
  },
  {
   "cell_type": "markdown",
   "id": "1bae3148-5096-4000-9e76-9a6a4363107e",
   "metadata": {},
   "source": [
    "## Q3. Dropping outliers\n",
    "\n",
    "Next, we need to check the distribution of the `duration` variable. There are some outliers. Let's remove them and keep only the records where the duration was between 1 and 60 minutes (inclusive).\n",
    "\n",
    "What fraction of the records left after you dropped the outliers?\n",
    "\n",
    "* 90%\n",
    "* 92%\n",
    "* 95%\n",
    "* 98% <-- Megan's Answer"
   ]
  },
  {
   "cell_type": "code",
   "execution_count": 81,
   "id": "91b6f5b8-9051-4d43-be1c-72586f8c1898",
   "metadata": {},
   "outputs": [],
   "source": [
    "# Dropping outliers\n",
    "taxi_df_no_outliers = taxi_jan23_df[(taxi_jan23_df[\"duration\"] >= 1) & (taxi_jan23_df[\"duration\"] <= 60)]"
   ]
  },
  {
   "cell_type": "code",
   "execution_count": 82,
   "id": "a5a9248b-8568-48ac-a214-d0148dd13b50",
   "metadata": {},
   "outputs": [
    {
     "data": {
      "text/plain": [
       "98.12212604417813"
      ]
     },
     "execution_count": 82,
     "metadata": {},
     "output_type": "execute_result"
    }
   ],
   "source": [
    "# Calculate the percentage of records that remain after outliers are dropped\n",
    "taxi_df_no_outliers.shape[0]/taxi_jan23_df.shape[0]*100"
   ]
  },
  {
   "cell_type": "code",
   "execution_count": 83,
   "id": "cad591e4-0596-4789-8552-9d869b02ae36",
   "metadata": {},
   "outputs": [],
   "source": [
    "# making a function to reuse this code later:\n",
    "def get_rid_of_outliers(df):\n",
    "    no_outliers_df = df[(df[\"duration\"] >= 1) & (df[\"duration\"] <= 60)]\n",
    "    return no_outliers_df"
   ]
  },
  {
   "cell_type": "code",
   "execution_count": 84,
   "id": "0d46c580-debb-4453-884e-f0a91d481271",
   "metadata": {},
   "outputs": [],
   "source": [
    "taxi_jan23_df = get_rid_of_outliers(taxi_jan23_df)"
   ]
  },
  {
   "cell_type": "code",
   "execution_count": 85,
   "id": "b27bac27-fd31-452e-9ff7-12ad1520adb5",
   "metadata": {},
   "outputs": [
    {
     "data": {
      "text/plain": [
       "(3009176, 20)"
      ]
     },
     "execution_count": 85,
     "metadata": {},
     "output_type": "execute_result"
    }
   ],
   "source": [
    "taxi_jan23_df.shape"
   ]
  },
  {
   "cell_type": "markdown",
   "id": "c8af5c47-bf2b-4c16-8ed8-e9d86314f263",
   "metadata": {},
   "source": [
    "## Q4. One-hot encoding\n",
    "\n",
    "Let's apply one-hot encoding to the pickup and dropoff location IDs. We'll use only these two features for our model. \n",
    "\n",
    "* Turn the dataframe into a list of dictionaries (remember to re-cast the ids to strings - otherwise it will \n",
    "  label encode them)\n",
    "* Fit a dictionary vectorizer \n",
    "* Get a feature matrix from it\n",
    "\n",
    "What's the dimensionality of this matrix (number of columns)?\n",
    "\n",
    "* 2\n",
    "* 155\n",
    "* 345\n",
    "* 515 <-- Megan's Answer (See code below)\n",
    "* 715"
   ]
  },
  {
   "cell_type": "code",
   "execution_count": 86,
   "id": "edf528e3-2238-4c10-a7e0-c2d5d97804aa",
   "metadata": {},
   "outputs": [],
   "source": [
    "# Define the feature dataframe:\n",
    "X = taxi_jan23_df[[\"PULocationID\", \"DOLocationID\"]].astype(str)\n",
    "\n",
    "# Define the target variable:\n",
    "y = taxi_jan23_df[\"duration\"]"
   ]
  },
  {
   "cell_type": "code",
   "execution_count": 87,
   "id": "42a39d7a-3377-4b91-9204-e73a61d6ebc9",
   "metadata": {},
   "outputs": [],
   "source": [
    "# Turn the feature dataframe into a list of dictionaries\n",
    "X_dict = X.to_dict(orient=\"records\")"
   ]
  },
  {
   "cell_type": "code",
   "execution_count": 88,
   "id": "9491cea1-104b-42df-b0f4-e8fe2ff8fd47",
   "metadata": {},
   "outputs": [],
   "source": [
    "# use DictVectorizer to one hot encode the list of dictionaries\n",
    "dv = DictVectorizer(sparse=True)\n",
    "X_OHE_array = dv.fit_transform(X_dict)"
   ]
  },
  {
   "cell_type": "code",
   "execution_count": 89,
   "id": "36744da3-72c3-43b7-808f-0ee8ce9dfb34",
   "metadata": {},
   "outputs": [
    {
     "data": {
      "text/plain": [
       "515"
      ]
     },
     "execution_count": 89,
     "metadata": {},
     "output_type": "execute_result"
    }
   ],
   "source": [
    "# Get the number of One Hot Encoded columns\n",
    "len(dv.get_feature_names_out())"
   ]
  },
  {
   "cell_type": "markdown",
   "id": "5cf38051-5647-4fda-8946-f4bac117ffbb",
   "metadata": {},
   "source": [
    "## Q5. Training a model\n",
    "\n",
    "Now let's use the feature matrix from the previous step to train a model. \n",
    "\n",
    "* Train a plain linear regression model with default parameters \n",
    "* Calculate the RMSE of the model on the training data\n",
    "\n",
    "What's the RMSE on train?\n",
    "\n",
    "* 3.64\n",
    "* 7.64 <-- Megan's Answer\n",
    "* 11.64\n",
    "* 16.64"
   ]
  },
  {
   "cell_type": "code",
   "execution_count": 90,
   "id": "4a7f6991-ef39-4246-9f50-7ff824577a46",
   "metadata": {},
   "outputs": [
    {
     "data": {
      "text/html": [
       "<style>#sk-container-id-5 {color: black;}#sk-container-id-5 pre{padding: 0;}#sk-container-id-5 div.sk-toggleable {background-color: white;}#sk-container-id-5 label.sk-toggleable__label {cursor: pointer;display: block;width: 100%;margin-bottom: 0;padding: 0.3em;box-sizing: border-box;text-align: center;}#sk-container-id-5 label.sk-toggleable__label-arrow:before {content: \"▸\";float: left;margin-right: 0.25em;color: #696969;}#sk-container-id-5 label.sk-toggleable__label-arrow:hover:before {color: black;}#sk-container-id-5 div.sk-estimator:hover label.sk-toggleable__label-arrow:before {color: black;}#sk-container-id-5 div.sk-toggleable__content {max-height: 0;max-width: 0;overflow: hidden;text-align: left;background-color: #f0f8ff;}#sk-container-id-5 div.sk-toggleable__content pre {margin: 0.2em;color: black;border-radius: 0.25em;background-color: #f0f8ff;}#sk-container-id-5 input.sk-toggleable__control:checked~div.sk-toggleable__content {max-height: 200px;max-width: 100%;overflow: auto;}#sk-container-id-5 input.sk-toggleable__control:checked~label.sk-toggleable__label-arrow:before {content: \"▾\";}#sk-container-id-5 div.sk-estimator input.sk-toggleable__control:checked~label.sk-toggleable__label {background-color: #d4ebff;}#sk-container-id-5 div.sk-label input.sk-toggleable__control:checked~label.sk-toggleable__label {background-color: #d4ebff;}#sk-container-id-5 input.sk-hidden--visually {border: 0;clip: rect(1px 1px 1px 1px);clip: rect(1px, 1px, 1px, 1px);height: 1px;margin: -1px;overflow: hidden;padding: 0;position: absolute;width: 1px;}#sk-container-id-5 div.sk-estimator {font-family: monospace;background-color: #f0f8ff;border: 1px dotted black;border-radius: 0.25em;box-sizing: border-box;margin-bottom: 0.5em;}#sk-container-id-5 div.sk-estimator:hover {background-color: #d4ebff;}#sk-container-id-5 div.sk-parallel-item::after {content: \"\";width: 100%;border-bottom: 1px solid gray;flex-grow: 1;}#sk-container-id-5 div.sk-label:hover label.sk-toggleable__label {background-color: #d4ebff;}#sk-container-id-5 div.sk-serial::before {content: \"\";position: absolute;border-left: 1px solid gray;box-sizing: border-box;top: 0;bottom: 0;left: 50%;z-index: 0;}#sk-container-id-5 div.sk-serial {display: flex;flex-direction: column;align-items: center;background-color: white;padding-right: 0.2em;padding-left: 0.2em;position: relative;}#sk-container-id-5 div.sk-item {position: relative;z-index: 1;}#sk-container-id-5 div.sk-parallel {display: flex;align-items: stretch;justify-content: center;background-color: white;position: relative;}#sk-container-id-5 div.sk-item::before, #sk-container-id-5 div.sk-parallel-item::before {content: \"\";position: absolute;border-left: 1px solid gray;box-sizing: border-box;top: 0;bottom: 0;left: 50%;z-index: -1;}#sk-container-id-5 div.sk-parallel-item {display: flex;flex-direction: column;z-index: 1;position: relative;background-color: white;}#sk-container-id-5 div.sk-parallel-item:first-child::after {align-self: flex-end;width: 50%;}#sk-container-id-5 div.sk-parallel-item:last-child::after {align-self: flex-start;width: 50%;}#sk-container-id-5 div.sk-parallel-item:only-child::after {width: 0;}#sk-container-id-5 div.sk-dashed-wrapped {border: 1px dashed gray;margin: 0 0.4em 0.5em 0.4em;box-sizing: border-box;padding-bottom: 0.4em;background-color: white;}#sk-container-id-5 div.sk-label label {font-family: monospace;font-weight: bold;display: inline-block;line-height: 1.2em;}#sk-container-id-5 div.sk-label-container {text-align: center;}#sk-container-id-5 div.sk-container {/* jupyter's `normalize.less` sets `[hidden] { display: none; }` but bootstrap.min.css set `[hidden] { display: none !important; }` so we also need the `!important` here to be able to override the default hidden behavior on the sphinx rendered scikit-learn.org. See: https://github.com/scikit-learn/scikit-learn/issues/21755 */display: inline-block !important;position: relative;}#sk-container-id-5 div.sk-text-repr-fallback {display: none;}</style><div id=\"sk-container-id-5\" class=\"sk-top-container\"><div class=\"sk-text-repr-fallback\"><pre>LinearRegression(n_jobs=16)</pre><b>In a Jupyter environment, please rerun this cell to show the HTML representation or trust the notebook. <br />On GitHub, the HTML representation is unable to render, please try loading this page with nbviewer.org.</b></div><div class=\"sk-container\" hidden><div class=\"sk-item\"><div class=\"sk-estimator sk-toggleable\"><input class=\"sk-toggleable__control sk-hidden--visually\" id=\"sk-estimator-id-5\" type=\"checkbox\" checked><label for=\"sk-estimator-id-5\" class=\"sk-toggleable__label sk-toggleable__label-arrow\">LinearRegression</label><div class=\"sk-toggleable__content\"><pre>LinearRegression(n_jobs=16)</pre></div></div></div></div></div>"
      ],
      "text/plain": [
       "LinearRegression(n_jobs=16)"
      ]
     },
     "execution_count": 90,
     "metadata": {},
     "output_type": "execute_result"
    }
   ],
   "source": [
    "# Instatiate the model:\n",
    "lr = LinearRegression(n_jobs=16)\n",
    "\n",
    "# Train the model:\n",
    "lr.fit(X_OHE_array,y)"
   ]
  },
  {
   "cell_type": "code",
   "execution_count": 91,
   "id": "19c18b0c-c2a3-44e3-87ad-7033762feee6",
   "metadata": {},
   "outputs": [
    {
     "data": {
      "text/plain": [
       "7.649261108323528"
      ]
     },
     "execution_count": 91,
     "metadata": {},
     "output_type": "execute_result"
    }
   ],
   "source": [
    "predictions = lr.predict(X_OHE_array)\n",
    "RMSE = np.sqrt(mean_squared_error(y, predictions))\n",
    "RMSE"
   ]
  },
  {
   "cell_type": "markdown",
   "id": "d422800f-f471-4f6f-9e78-375d1065e118",
   "metadata": {},
   "source": [
    "## Q6. Evaluating the model\n",
    "\n",
    "Now let's apply this model to the validation dataset (February 2023). \n",
    "\n",
    "What's the RMSE on validation?\n",
    "\n",
    "* 3.81\n",
    "* 7.81 <-- Megan's Answer\n",
    "* 11.81\n",
    "* 16.81"
   ]
  },
  {
   "cell_type": "code",
   "execution_count": 92,
   "id": "e87fc719-c965-4438-8af9-89446a03e8c0",
   "metadata": {},
   "outputs": [],
   "source": [
    "# Add duration column to february data:\n",
    "duration_minutes(taxi_feb23_df)\n",
    "\n",
    "# Remove outliers in february data:\n",
    "taxi_feb23_df = get_rid_of_outliers(taxi_feb23_df)"
   ]
  },
  {
   "cell_type": "code",
   "execution_count": 93,
   "id": "681a2007-2eff-4614-9593-aca5122c41fc",
   "metadata": {},
   "outputs": [
    {
     "data": {
      "text/plain": [
       "7.811820628330829"
      ]
     },
     "execution_count": 93,
     "metadata": {},
     "output_type": "execute_result"
    }
   ],
   "source": [
    "X_validate = taxi_feb23_df[[\"PULocationID\", \"DOLocationID\"]].astype(str)\n",
    "y_validate = taxi_feb23_df[\"duration\"]\n",
    "\n",
    "# Turn the feature dataframe into a list of dictionaries\n",
    "X_validate_dict =  X_validate.to_dict(orient=\"records\")\n",
    "\n",
    "X_validate_OHE_array = dv.transform(X_validate_dict)\n",
    "\n",
    "validation_predictions = lr.predict(X_validate_OHE_array)\n",
    "\n",
    "RMSE = np.sqrt(mean_squared_error(y_validate, validation_predictions))\n",
    "RMSE"
   ]
  },
  {
   "cell_type": "markdown",
   "id": "2faa2ed1-4813-4a6b-a949-4702527bc704",
   "metadata": {},
   "source": [
    "## Submit the results\n",
    "\n",
    "* Submit your results here: https://courses.datatalks.club/mlops-zoomcamp-2024/homework/hw1\n",
    "* If your answer doesn't match options exactly, select the closest one"
   ]
  }
 ],
 "metadata": {
  "kernelspec": {
   "display_name": "Python 3 (ipykernel)",
   "language": "python",
   "name": "python3"
  },
  "language_info": {
   "codemirror_mode": {
    "name": "ipython",
    "version": 3
   },
   "file_extension": ".py",
   "mimetype": "text/x-python",
   "name": "python",
   "nbconvert_exporter": "python",
   "pygments_lexer": "ipython3",
   "version": "3.11.7"
  }
 },
 "nbformat": 4,
 "nbformat_minor": 5
}
